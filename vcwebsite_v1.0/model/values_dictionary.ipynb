{
 "cells": [
  {
   "cell_type": "code",
   "execution_count": 78,
   "metadata": {},
   "outputs": [],
   "source": [
    "values = {'Acceptance': 'An express act or implication by conduct that manifests assent to the terms of an offer in a manner invited or required by the offer so that a binding contract is formed. The exercise of power conferred by an offer by performance of some act. The act of a person to whom something is offered of tendered by another, whereby the offered demonstrates through an act invited by the offer an intention of retaining the subject of the offer',\n",
    "         'Ambition': '  strong desire for distinction, preferment, honor, political power, fame, or the object of such desires, or a general motivation, not necessarily tied to any particular goals',\n",
    "         'Authentic':' a particular way of dealing with the external world, being faithful to internal rather than external ideas',\n",
    "         'Brave':'having or showing mental or moral strength to face danger, fear, or difficulty : having or showing courage',\n",
    "         'Caring':'A person who is concerned about others and who does kind things for them. have feelings like concern, responsibility or love for someone or something.',\n",
    "         'Challenging': 'request made to the holder of a competitive title for a match between champion and challenger, the winner of which will acquire or retain the title',\n",
    "         'Cheerful': \"the current experience of the feeling of an emotion (affect) such as pleasure or joy, or of a more general sense of 'emotional condition as a whole'.  appraisal of life satisfaction, such as of quality of life\",\n",
    "         'Collaborative':\"the process of two or more people, entities or organizations working together to complete a task or achieve a goal. Collaboration is similar to cooperation. Structured methods of collaboration encourage introspection of behavior and communication.\",\n",
    "         'communication':\"Communication is giving, receiving or exchanging ideas, information, signals or messages through appropriate media, enabling individuals or groups to persuade, to seek information, to give information or to express emotions. This broad definition includes body-language, skills of speaking and writing\",\n",
    "         'Creativity':\" the expression of the individual's characteristics of personality and imagination via art, writing.the ability of a person to create, perform, or think of something in a way that has not been done before\",\n",
    "         'Curiousity':\"to be interested in what is not one's personal or proper concern.an active desire to learn or to know\",\n",
    "         'Decisiveness':\" having the power or quality of deciding The council president cast the decisive vote.resolute, determined a decisive manner decisive leaders a decisive editor.unmistakable, unquestionable a decisive superiority\",\n",
    "         'Dedicated':\"to describe or give information about something, or to clean and shine all parts of an automobile.an individual fact or feature, or is a small or minor part of something, or a small group of people assigned to a specific task\",\n",
    "         'Enthusiastic':\"feeling or showing strong excitement about something.intense enjoyment, interest, or approval\",\n",
    "         'Flexibility':\" a person can cope with changes in circumstances and think about problems and tasks in novel, creative ways.when stressors or unexpected events occur, requiring a person to change their stance, outlook, or commitment\",\n",
    "         'Friendly':\"someone or something exhibiting the characteristics of a friend, such as being kind, helpful or affectionate, caring, and make you feel comfortable\",\n",
    "         'Hard-working':\"something or someone that is diligent in laboring and that puts effort into doing and completing tasks. Applying your ability with focus and intensity. Any activity that you don't want to do. Any activity that you find difficult and strenuous\",\n",
    "         'Helpful':\"helping in some way, such as doing part of the job, or by giving advice or information. make things easier for others\",\n",
    "         'Honest':\"a facet of moral character that connotes positive and virtuous attributes such as integrity, truthfulness, straightforwardness, including straightforwardness of conduct, along with the absence of lying, cheating, theft, etc. Honesty also involves being trustworthy, loyal, fair, and sincere.\",\n",
    "         'Integrity':\"being honest and showing a consistent and uncompromising adherence to strong moral and ethical principles and values.the inner sense of 'wholeness' deriving from qualities such as honesty and consistency of character\",\n",
    "         'Leadership':\"both a research area, and a practical skill encompassing the ability of an individual, group or organization to 'lead', influence or guide other individuals, teams, or entire organizations.a process of social influence, which maximizes the efforts of others, towards the achievement of a goal.\",\n",
    "         'Loyalty':\"a devotion and faithfulness to a nation, cause, philosophy, country, group, or person.giving or showing firm and constant support or allegiance to a person or institution.genuinely having best interests at heart and ensuring that relationship is reciprocal\",\n",
    "         'Motivated':\"provided with a motive. having an incentive or a strong desire to do well or succeed in some pursuit. the process that initiates, guides, and maintains goal-oriented behaviors\",\n",
    "         'Open-minded':\"being receptive to a wide variety of ideas, arguments, and information. the ability to think critically and rationally\",\n",
    "         'optimism':\"an attitude reflecting a belief or hope that the outcome of some specific endeavor, or outcomes in general, will be positive, favorable, and desirable\",\n",
    "         'responsibility': \"the quality or state of being responsible: such as.moral, legal, or mental accountability.reliability, trustworthiness.something for which one is responsible : burden has neglected his responsibilities\",\n",
    "         'Supportive':\"Social support is the perception and actuality that one is cared for, has assistance available from other people, and most popularly, that one is part of a supportive social network. These supportive resources can be emotional (e.g., nurturance), informational (e.g., advice), or companionship (e.g., sense of belonging); tangible (e.g., financial assistance) or intangible (e.g., personal advice).Moral support is a way of giving support to a person or cause, or to one side in a conflict, without making any contribution beyond the emotional or psychological value of the encouragement.Peer support occurs when people provide knowledge, experience, emotional, social or practical help to each other.\",\n",
    "         'Team-player':\"someone who places the well being of the team ahead of the well being of him-/herself. A team with members who act cooperatively and seek to achive the common goal functions better than a team with members that only focus on their own individual goals. ... This is called 'taking one for the team'\",\n",
    "         'Trustworthiness':\"the characteristics or behaviors of one person that inspire positive expectations in another person. Trust propensity is the ability to rely on others\",\n",
    "         'Versatile':\" embracing a variety of subjects, fields, or skills .turning with ease from one thing to another.  having many uses or applications versatile building material.changing or fluctuating readily.variable a versatile disposition\",\n",
    "         }"
   ]
  },
  {
   "cell_type": "code",
   "execution_count": 79,
   "metadata": {},
   "outputs": [
    {
     "data": {
      "text/plain": [
       "dict_keys(['Acceptance', 'Ambition', 'Authentic', 'Brave', 'Caring', 'Challenging', 'Cheerful', 'Collaborative', 'communication', 'Creativity', 'Curiousity', 'Decisiveness', 'Dedicated', 'Enthusiastic', 'Flexibility', 'Friendly', 'Hard-working', 'Helpful', 'Honest', 'Integrity', 'Leadership', 'Loyalty', 'Motivated', 'Open-minded', 'optimism', 'responsibility', 'Supportive', 'Team-player', 'Trustworthiness', 'Versatile'])"
      ]
     },
     "execution_count": 79,
     "metadata": {},
     "output_type": "execute_result"
    }
   ],
   "source": [
    "values.keys()"
   ]
  },
  {
   "cell_type": "code",
   "execution_count": null,
   "metadata": {},
   "outputs": [],
   "source": []
  }
 ],
 "metadata": {
  "kernelspec": {
   "display_name": "Python 3",
   "language": "python",
   "name": "python3"
  },
  "language_info": {
   "codemirror_mode": {
    "name": "ipython",
    "version": 3
   },
   "file_extension": ".py",
   "mimetype": "text/x-python",
   "name": "python",
   "nbconvert_exporter": "python",
   "pygments_lexer": "ipython3",
   "version": "3.7.4"
  }
 },
 "nbformat": 4,
 "nbformat_minor": 2
}
